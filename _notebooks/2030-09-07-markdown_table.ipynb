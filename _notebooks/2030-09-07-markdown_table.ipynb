{
 "cells": [
  {
   "cell_type": "markdown",
   "metadata": {},
   "source": [
    "---\n",
    "toc: true\n",
    "comments: true\n",
    "layout: post\n",
    "title: Markdown table table ranking National soccer teams\n",
    "description: \n",
    "courses: { compsci: {week: 2} }\n",
    "type: hacks\n",
    "---"
   ]
  },
  {
   "cell_type": "markdown",
   "metadata": {},
   "source": [
    "| Rank | Country         | Number of World Cup Wins |\n",
    "|------|-----------------|--------------------------|\n",
    "| 1    | Brazil          | 5                        |\n",
    "| 2    | Germany         | 4                        |\n",
    "| 3    | Italy           | 4                        |\n",
    "| 4    | Argentina       | 2                        |\n",
    "| 5    | Uruguay         | 2                        |\n",
    "| 6    | France          | 2                        |\n",
    "| 7    | England         | 1                        |\n",
    "| 8    | Spain           | 1                        |\n",
    "| 9    | Netherlands     | 0                        |\n",
    "| 10   | Belgium         | 0                        |"
   ]
  }
 ],
 "metadata": {
  "kernelspec": {
   "display_name": "Python 3",
   "language": "python",
   "name": "python3"
  },
  "language_info": {
   "codemirror_mode": {
    "name": "ipython",
    "version": 3
   },
   "file_extension": ".py",
   "mimetype": "text/x-python",
   "name": "python",
   "nbconvert_exporter": "python",
   "pygments_lexer": "ipython3",
   "version": "3.11.4"
  },
  "orig_nbformat": 4
 },
 "nbformat": 4,
 "nbformat_minor": 2
}
