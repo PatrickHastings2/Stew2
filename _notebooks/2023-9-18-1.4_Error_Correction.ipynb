{
 "cells": [
  {
   "cell_type": "markdown",
   "metadata": {},
   "source": [
    "---\n",
    "toc: true\n",
    "comments: false\n",
    "layout: post\n",
    "title: 1.4 Error Correction\n",
    "description: \n",
    "courses: { compsci: {week: 4} }\n",
    "type: hacks\n",
    "---"
   ]
  },
  {
   "cell_type": "code",
   "execution_count": 2,
   "metadata": {},
   "outputs": [
    {
     "name": "stdout",
     "output_type": "stream",
     "text": [
      "Menu\n",
      "burger  $3.99\n",
      "fries  $1.99\n",
      "drink  $0.99\n",
      "drink added to your order. Your total is now $0.99\n",
      "Your total bill is $0.99\n"
     ]
    }
   ],
   "source": [
    "menu = {\n",
    "    \"burger\": 3.99,\n",
    "    \"fries\": 1.99,\n",
    "    \"drink\": 0.99\n",
    "}\n",
    "\n",
    "total = 0\n",
    "\n",
    "# Show the user the menu and prompt them to select an item\n",
    "print(\"Menu\")\n",
    "for k, v in menu.items():\n",
    "    print(k + \"  $\" + str(v))\n",
    "\n",
    "# Prompt the user multiple times until they want to stop\n",
    "while True:\n",
    "    item = input(\"Please select an item from the menu (or type 'done' to finish): \")\n",
    "\n",
    "    if item == 'done':\n",
    "        break  # Exit the loop if the user is done ordering\n",
    "    elif item in menu:\n",
    "        total += menu[item]  # Add the price of the selected item to the total\n",
    "        print(f\"{item} added to your order. Your total is now ${total:.2f}\")\n",
    "    else:\n",
    "        print(\"Invalid item. Please choose from the menu.\")\n",
    "\n",
    "print(f\"Your total bill is ${total:.2f}\")"
   ]
  }
 ],
 "metadata": {
  "kernelspec": {
   "display_name": "Python 3",
   "language": "python",
   "name": "python3"
  },
  "language_info": {
   "codemirror_mode": {
    "name": "ipython",
    "version": 3
   },
   "file_extension": ".py",
   "mimetype": "text/x-python",
   "name": "python",
   "nbconvert_exporter": "python",
   "pygments_lexer": "ipython3",
   "version": "3.11.4"
  },
  "orig_nbformat": 4
 },
 "nbformat": 4,
 "nbformat_minor": 2
}
