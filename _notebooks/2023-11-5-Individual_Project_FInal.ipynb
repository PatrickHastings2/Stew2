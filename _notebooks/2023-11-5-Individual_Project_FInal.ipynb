{
 "cells": [
  {
   "cell_type": "markdown",
   "metadata": {},
   "source": [
    "## Individual Project Final"
   ]
  },
  {
   "cell_type": "markdown",
   "metadata": {},
   "source": [
    "## Contribution to Passion Project\n",
    "\n",
    "- Contributed to Database of players\n",
    "- Created Object varibale strucuture to sort player data into classes\n",
    "- Created python script in backend that added weight to higher rated players\n",
    "- Facilitaed data developemnt among team"
   ]
  },
  {
   "cell_type": "markdown",
   "metadata": {},
   "source": []
  }
 ],
 "metadata": {
  "language_info": {
   "name": "python"
  },
  "orig_nbformat": 4
 },
 "nbformat": 4,
 "nbformat_minor": 2
}
