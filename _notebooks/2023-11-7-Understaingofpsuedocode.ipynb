{
 "cells": [
  {
   "cell_type": "markdown",
   "metadata": {},
   "source": [
    "## My Understanding of Psuedo Code\n",
    "\n",
    "As I completed the exam I took note psuedo codes similarity to python, and that it seems to be sort of infomral way of representing python through the human thought process. Additionally, psuedo code serves as a way to plan out and orgainze your code before you actually scripting it, as a result, I don't believe that Psuedo code is necessarily used to represent python only, but other programming languages. "
   ]
  },
  {
   "cell_type": "markdown",
   "metadata": {},
   "source": [
    "## Relation/ Translation to python\n",
    "\n",
    "- Many questions looked something like this:"
   ]
  },
  {
   "cell_type": "code",
   "execution_count": null,
   "metadata": {
    "vscode": {
     "languageId": "sql"
    }
   },
   "outputs": [],
   "source": [
    "1. Initialize a variable 'sum' to 0.\n",
    "2. For each number 'num' in the list:\n",
    "   1. If 'num' is even:\n",
    "      1. Add 'num' to 'sum'.\n",
    "3. Print 'sum'.\n"
   ]
  },
  {
   "cell_type": "markdown",
   "metadata": {},
   "source": [
    "## Python translation"
   ]
  },
  {
   "cell_type": "code",
   "execution_count": null,
   "metadata": {},
   "outputs": [],
   "source": [
    "def sum_of_evens(numbers):\n",
    "    total = 0\n",
    "    for num in numbers:\n",
    "        if num % 2 == 0:\n",
    "            total += num\n",
    "    print(total)\n"
   ]
  },
  {
   "cell_type": "markdown",
   "metadata": {},
   "source": [
    "## Value of SQL:\n",
    "\n",
    "- SLQ creates a clear representation of an algorithms logic and purpose before focusing on the specicifc components of python or another programming language."
   ]
  }
 ],
 "metadata": {
  "language_info": {
   "name": "python"
  },
  "orig_nbformat": 4
 },
 "nbformat": 4,
 "nbformat_minor": 2
}
