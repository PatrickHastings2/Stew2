{
 "cells": [
  {
   "cell_type": "markdown",
   "metadata": {},
   "source": [
    "---\n",
    "toc: true\n",
    "comments: true\n",
    "layout: post\n",
    "title: Commits in Passion Project\n",
    "description:\n",
    "courses: { compsci: {week: 11} }\n",
    "type: hacks\n",
    "---"
   ]
  },
  {
   "cell_type": "markdown",
   "metadata": {},
   "source": [
    "## Major Commits"
   ]
  },
  {
   "cell_type": "code",
   "execution_count": null,
   "metadata": {
    "vscode": {
     "languageId": "javascript"
    }
   },
   "outputs": [],
   "source": [
    "\n",
    "{\n",
    " \"cells\": [\n",
    "  {\n",
    "   \"cell_type\": \"code\",\n",
    "   \"execution_count\": null,\n",
    "   \"metadata\": {\n",
    "    \"vscode\": {\n",
    "     \"languageId\": \"javascript\"\n",
    "    }\n",
    "   },\n",
    "   \"outputs\": [],\n",
    "   \"source\": [\n",
    "    \"%%js\\n\",\n",
    "    \"\\n\",\n",
    "    \"class playername{\\n\",\n",
    "    \"    constructor(pac, sho, pas, dri, def, phy){\\n\",\n",
    "    \"        // 'this' here is used to say that this attribute belongs to this class\\n\",\n",
    "    \"        this.pac = pac;\\n\",\n",
    "    \"        this.sho = sho;\\n\",\n",
    "    \"        this.pas = pas;\\n\",\n",
    "    \"        this.dri = dri;\\n\",\n",
    "    \"        this.phy = phy;\\n\",\n",
    "    \"    }\\n\",\n",
    "    \"    \\n\",\n",
    "    \"    makeSound() {\\n\",\n",
    "    \"        console.log(this.sound);\\n\",\n",
    "    \"        // Additional code to make sound goes here\\n\",\n",
    "    \"    }\\n\",\n",
    "    \"\\n\",\n",
    "    \"}\\n\",\n",
    "    \"\\n\",\n",
    "    \"// define the variables we will pass into our cat class\\n\",\n",
    "    \"var furColor = \\\"Black\\\";\\n\",\n",
    "    \"var weight = 9;\\n\",\n",
    "    \"var breed = \\\"Bombay\\\"\\n\",\n",
    "    \"var sound = \\\"meow\\\"\\n\",\n",
    "    \"\\n\",\n",
    "    \"// to make a new cat you need to call new and pass \\n\",\n",
    "    \"// all of the variables that the cat constructor is expecting\\n\",\n",
    "    \"var cat = new Cat(furColor, weight, breed, sound);\\n\",\n",
    "    \"\\n\",\n",
    "    \"// call a class function\\n\",\n",
    "    \"cat.makeSound();\"\n",
    "   ]\n",
    "  }\n",
    " ],\n",
    " \"metadata\": {\n",
    "  \"language_info\": {\n",
    "   \"name\": \"python\"\n",
    "  },\n",
    "  \"orig_nbformat\": 4\n",
    " },\n",
    " \"nbformat\": 4,\n",
    " \"nbformat_minor\": 2\n",
    "}"
   ]
  },
  {
   "cell_type": "markdown",
   "metadata": {},
   "source": [
    "- Here I took the object orriented programing template and converted it to the criteria for the player statistics"
   ]
  },
  {
   "cell_type": "code",
   "execution_count": null,
   "metadata": {
    "vscode": {
     "languageId": "javascript"
    }
   },
   "outputs": [],
   "source": [
    "   \"outputs\": [\n",
    "    {\n",
    "     \"data\": {\n",
    "      \"application/javascript\": \"\\nclass messi{\\n    constructor(pac, sho, pas, dri, def, phy){\\n\\n        this.pac = pac;\\n        this.sho = sho;\\n        this.pas = pas;\\n        this.dri = dri;\\n        this.phy = phy;\\n    }\\n\\n}\\n\\n\\nvar pac = \\\"80\\\"\\nvar sho = \\\"87\\\"\\nvar pas = \\\"90\\\"\\nvar dri = \\\"94\\\"\\nvar def = \\\"33\\\"\\nvar phy = \\\"64\\\"\\n\\n\\n\\ndisplay(messi)\\n\",\n",
    "      \"text/plain\": [\n",
    "       \"<IPython.core.display.Javascript object>\"\n",
    "      ]\n",
    "     },\n",
    "     \"metadata\": {},\n",
    "     \"output_type\": \"display_data\"\n",
    "    }"
   ]
  },
  {
   "cell_type": "code",
   "execution_count": null,
   "metadata": {
    "vscode": {
     "languageId": "javascript"
    }
   },
   "outputs": [],
   "source": [
    "\"class playername{\\n\",\n",
    "    \"class messi{\\n\",\n",
    "    \"    constructor(pac, sho, pas, dri, def, phy){\\n\",\n",
    "    \"        // 'this' here is used to say that this attribute belongs to this class\\n\",\n",
    "    \"\\n\",\n",
    "    \"        this.pac = pac;\\n\",\n",
    "    \"        this.sho = sho;\\n\",\n",
    "    \"        this.pas = pas;\\n\",\n",
    "    \"        this.dri = dri;\\n\",\n",
    "    \"        this.phy = phy;\\n\",\n",
    "    \"    }\\n\","
   ]
  },
  {
   "cell_type": "code",
   "execution_count": null,
   "metadata": {
    "vscode": {
     "languageId": "javascript"
    }
   },
   "outputs": [],
   "source": [
    "\"var pac = \\\"80\\\"\\n\",\n",
    "\"var sho = \\\"87\\\"\\n\",\n",
    "\"var pas = \\\"90\\\"\\n\",\n",
    "\"var dri = \\\"94\\\"\\n\",\n",
    "\"var def = \\\"33\\\"\\n\",\n",
    "\"var phy = \\\"64\\\"\\n\",\n"
   ]
  },
  {
   "cell_type": "markdown",
   "metadata": {},
   "source": [
    "- Made the \"Player\" class and entered Messi as our first player. \n"
   ]
  },
  {
   "cell_type": "code",
   "execution_count": null,
   "metadata": {
    "vscode": {
     "languageId": "javascript"
    }
   },
   "outputs": [],
   "source": [
    "\"source\": [\n",
    "    \"class Player {\\n\",\n",
    "    \"    constructor(name, pac, sho, pas, dri, def, phy) {\\n\",\n",
    "    \"        this.name = name;\\n\",\n",
    "    \"        this.pac = pac;\\n\",\n",
    "    \"        this.sho = sho;\\n\",\n",
    "    \"        this.pas = pas;\\n\",\n",
    "    \"        this.dri = dri;\\n\",\n",
    "    \"        this.def = def;\\n\",\n",
    "    \"        this.phy = phy;\\n\",\n",
    "    \"    }\\n\",\n",
    "    \"}\\n\",\n",
    "    \"\\n\",\n",
    "    \"// Create an array of player objects\\n\",\n",
    "    \"const players = [\\n\",\n",
    "    \"    new Player(\\\"Messi\\\", 80, 87, 90, 94, 33, 64),\\n\",\n",
    "    \"    new Player(\\\"Ronaldo\\\", 85, 90, 75, 92, 45, 78),\\n\",\n",
    "    \"    new Player(\\\"\\\")\\n\",\n",
    "    \"];\\n\",\n",
    "    \"\\n\",\n",
    "    \"// Iterate through the array and display the stats for each player\\n\",\n",
    "    \"for (const player of players) {\\n\",\n",
    "    \"    console.log(player.name + \\\"'s Stats:\\\");\\n\",\n",
    "    \"    console.log(\\\"Pace (PAC): \\\" + player.pac);\\n\",\n",
    "    \"    console.log(\\\"Shooting (SHO): \\\" + player.sho);\\n\",\n",
    "    \"    console.log(\\\"Passing (PAS): \\\" + player.pas);\\n\",\n",
    "    \"    console.log(\\\"Dribbling (DRI): \\\" + player.dri);\\n\",\n",
    "    \"    console.log(\\\"Defense (DEF): \\\" + player.def);\\n\",\n",
    "    \"    console.log(\\\"Physical (PHY): \\\" + player.phy);\\n\",\n",
    "    \"    console.log(\\\"\\\\n\\\");\\n\",\n",
    "    \"}\\n\"\n",
    "   ]\n",
    "  }"
   ]
  },
  {
   "cell_type": "markdown",
   "metadata": {},
   "source": [
    "- Created foreloop to make porcces of addiing players simpler"
   ]
  },
  {
   "cell_type": "code",
   "execution_count": null,
   "metadata": {
    "vscode": {
     "languageId": "javascript"
    }
   },
   "outputs": [],
   "source": [
    "\"# Define position values\\n\",\n",
    "    \"CF = \\\"Center Forward\\\"\\n\",\n",
    "    \"ST = \\\"Striker\\\"\\n\",\n",
    "    \"RB = \\\"Right Back\\\"\\n\",\n",
    "    \"CM = \\\"Central Midfield\\\"\\n\",\n",
    "    \"LW = \\\"Left Wing\\\"\\n\",\n",
    "    \"CDM = \\\"Central Defensive Midfield\\\"\\n\",\n",
    "    \"CD = \\\"Center Back\\\"\\n\","
   ]
  },
  {
   "cell_type": "markdown",
   "metadata": {},
   "source": [
    "- Added postional Values to futher sort the players \n",
    "- Comverted from JS to python"
   ]
  }
 ],
 "metadata": {
  "language_info": {
   "name": "python"
  },
  "orig_nbformat": 4
 },
 "nbformat": 4,
 "nbformat_minor": 2
}
