{
 "cells": [
  {
   "cell_type": "code",
   "execution_count": null,
   "metadata": {},
   "outputs": [],
   "source": [
    "## Developing Algorithms"
   ]
  },
  {
   "cell_type": "markdown",
   "metadata": {},
   "source": [
    "### What is an Algorithm\n",
    " An algorithm is like a recipe that gives you clear, step-by-step directions to solve a problem or do a task. It's a specific list of instructions, and if you follow them in order, you'll get the result you want."
   ]
  },
  {
   "cell_type": "markdown",
   "metadata": {},
   "source": [
    "### Purpose of developing Algorithms\n",
    "-  solving complex problems by breaking them down into smaller and more managable steps. They offer a systematic way to face challenges and find thier solutions.\n",
    "- Preform tasks efficiently\n",
    "- Data Storagem sorting and processing"
   ]
  },
  {
   "cell_type": "markdown",
   "metadata": {},
   "source": [
    "## Example of algorithm\n",
    "\n",
    "import random\n",
    "# Define min and max values\n",
    "min_num = 1\n",
    "max_num = 10\n",
    "# Generate Random Number\n",
    "random_number = random.randint(min_num, max_num)\n",
    "# Output\n",
    "print(f\"Random number: {random_number}\")\n"
   ]
  },
  {
   "cell_type": "markdown",
   "metadata": {},
   "source": [
    "### Same goal, different Process"
   ]
  },
  {
   "cell_type": "markdown",
   "metadata": {},
   "source": [
    "## Function 1: counts sum of numbers from 1 to x by adding each number to total"
   ]
  },
  {
   "cell_type": "markdown",
   "metadata": {},
   "source": [
    "## Function 2: counts to sum of numbers from 1 to x by using formula (x(x+1))/2"
   ]
  },
  {
   "cell_type": "markdown",
   "metadata": {},
   "source": [
    "### Algorithms in statistic/mathematical calculation"
   ]
  },
  {
   "cell_type": "markdown",
   "metadata": {},
   "source": [
    "\n",
    "## Example"
   ]
  },
  {
   "cell_type": "markdown",
   "metadata": {},
   "source": [
    "\n",
    "### Popcorn Hack #1\n",
    "Create your own algorithm using numbers to calculate a value."
   ]
  },
  {
   "cell_type": "markdown",
   "metadata": {},
   "source": [
    "## Insert your popcorn hack here:"
   ]
  },
  {
   "cell_type": "markdown",
   "metadata": {},
   "source": [
    "\n",
    "### Using algorithms to organize lists\n",
    "- Selection sort\n",
    "- insertion sort"
   ]
  },
  {
   "cell_type": "markdown",
   "metadata": {},
   "source": [
    "### Selection sort example"
   ]
  },
  {
   "cell_type": "markdown",
   "metadata": {},
   "source": [
    "/// explanation"
   ]
  },
  {
   "cell_type": "markdown",
   "metadata": {},
   "source": [
    "### Insertion sort example\n",
    "\n",
    "\n",
    "\n",
    "\n",
    "\n"
   ]
  },
  {
   "cell_type": "markdown",
   "metadata": {},
   "source": [
    "///explanation"
   ]
  },
  {
   "cell_type": "markdown",
   "metadata": {},
   "source": [
    "### Popcorn Hack #2\n",
    "Make your own list and code an algorithm using one of the two methods to sort them from least to greatest."
   ]
  },
  {
   "cell_type": "markdown",
   "metadata": {},
   "source": [
    " ### Insert your popcorn hack here:\n",
    "\n",
    "\n",
    "\n",
    "\n",
    "\n"
   ]
  },
  {
   "cell_type": "markdown",
   "metadata": {},
   "source": [
    "## Homework Hacks"
   ]
  },
  {
   "cell_type": "markdown",
   "metadata": {},
   "source": []
  },
  {
   "cell_type": "markdown",
   "metadata": {},
   "source": [
    "\n",
    "### Homework Hack 1\n",
    "Create your own algorithm using a loop until you reach a desired value. Be creative!"
   ]
  },
  {
   "cell_type": "markdown",
   "metadata": {},
   "source": [
    "## Example algorithm of loop"
   ]
  },
  {
   "cell_type": "markdown",
   "metadata": {},
   "source": [
    "### Homework Hack 2\n",
    "Write two different algorithms of your own choosing that reach the same end output. Refer to the examples in the lesson above for support."
   ]
  }
 ],
 "metadata": {
  "language_info": {
   "name": "python"
  },
  "orig_nbformat": 4
 },
 "nbformat": 4,
 "nbformat_minor": 2
}
