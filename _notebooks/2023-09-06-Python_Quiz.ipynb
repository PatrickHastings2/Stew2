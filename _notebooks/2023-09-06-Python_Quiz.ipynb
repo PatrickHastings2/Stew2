{
 "cells": [
  {
   "cell_type": "markdown",
   "metadata": {},
   "source": [
    "---\n",
    "toc: false\n",
    "comments: false\n",
    "hide: true\n",
    "layout: post\n",
    "type: hacks\n",
    "title: python quiz\n",
    "---"
   ]
  },
  {
   "cell_type": "code",
   "execution_count": 7,
   "metadata": {},
   "outputs": [
    {
     "name": "stdout",
     "output_type": "stream",
     "text": [
      "Hello friend!\n",
      "Are you ready to be tested on your Soccer knowledge?\n",
      "Question: Who won the 2022 World Cup?\n"
     ]
    }
   ],
   "source": [
    "def question_and_answer(prompt):\n",
    "    print(\"Question: \" + prompt)\n",
    "    user_answer = input(\"Your answer: \").strip()\n",
    "\n",
    "    return user_answer\n",
    "\n",
    "print(\"Hello friend!\")\n",
    "print(\"Are you ready to be tested on your Soccer knowledge?\")\n",
    "\n",
    "correct = 0 \n",
    "questions= 0\n",
    "\n",
    "response_1 = question_and_answer(\"Who won the 2022 World Cup?\")\n",
    "\n",
    "if response_1 == \"Argentina\":\n",
    "    print(\"Correct! Argentina won the 2022 World Cup.\")\n",
    "    correct += 1\n",
    "else:\n",
    "    print(\"Incorrect. The correct answer is Argentina.\")\n",
    "\n",
    "\n",
    "\n",
    "\n",
    "\n",
    "\n",
    "\n",
    "\n",
    "\n",
    "    \n",
    "\n"
   ]
  }
 ],
 "metadata": {
  "kernelspec": {
   "display_name": "Python 3",
   "language": "python",
   "name": "python3"
  },
  "language_info": {
   "codemirror_mode": {
    "name": "ipython",
    "version": 3
   },
   "file_extension": ".py",
   "mimetype": "text/x-python",
   "name": "python",
   "nbconvert_exporter": "python",
   "pygments_lexer": "ipython3",
   "version": "3.11.4"
  },
  "orig_nbformat": 4
 },
 "nbformat": 4,
 "nbformat_minor": 2
}
