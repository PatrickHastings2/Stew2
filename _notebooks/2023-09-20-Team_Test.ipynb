{
 "cells": [
  {
   "cell_type": "markdown",
   "metadata": {},
   "source": [
    "---\n",
    "toc: true\n",
    "comments: false\n",
    "layout: post\n",
    "title: Team Test\n",
    "description: our team test\n",
    "courses: { compsci: {week: 5} }\n",
    "type: hacks\n",
    "---"
   ]
  },
  {
   "cell_type": "markdown",
   "metadata": {},
   "source": [
    "## Benefits of Collaboration Within a Team\n",
    "\n",
    "Having a team can make the creation of a project faster and more efficient. With each task given to a group member, the project can be done with more detail due to each section being worked on specifically by one person while also being done at a faster rate. Collaboration is also important because groups can easily be off-task and not do the work they're supposed to do if there is a lack of collaboration. But when done right, a collaborating group can facilitate their project and manage each member's task, leading to an easier and more successful project.\n",
    "\n",
    "Diversities of our team: \n",
    "One of the diversities our team has is in its software; half of our scrum team work on Macs while the other half works on Windows computers. This can help reduce the chances of everyone having the same problem on one platform. In additon we all have differnt levels of expertise in coding, allowing for everyone to help eachother on thier respective needs.\n",
    "\n",
    "How will you hold each person accountable for their portion of the work?:\n",
    " we will ulitlize a system, of checks and balances, were we check eathothers work to make sure that we are all doing what is expected\n",
    "\n"
   ]
  },
  {
   "cell_type": "markdown",
   "metadata": {},
   "source": [
    "## Program Function and Purpose"
   ]
  },
  {
   "cell_type": "code",
   "execution_count": 7,
   "metadata": {},
   "outputs": [
    {
     "name": "stdout",
     "output_type": "stream",
     "text": [
      "This message is only output!\n"
     ]
    }
   ],
   "source": [
    "## Programs with Ouput\n",
    "\n",
    "print(\"This message is only output!\")"
   ]
  },
  {
   "cell_type": "code",
   "execution_count": 8,
   "metadata": {},
   "outputs": [
    {
     "name": "stdout",
     "output_type": "stream",
     "text": [
      "Hello, patrick hastings!\n"
     ]
    }
   ],
   "source": [
    "# Program with Input and Output\n",
    "# Input\n",
    "name = input(\"Enter your name: \")\n",
    "\n",
    "# Processing\n",
    "greeting = \"Hello, \" + name + \"!\"\n",
    "\n",
    "# Output\n",
    "print(greeting)"
   ]
  },
  {
   "cell_type": "markdown",
   "metadata": {},
   "source": [
    "## Program with a list"
   ]
  },
  {
   "cell_type": "code",
   "execution_count": 9,
   "metadata": {},
   "outputs": [],
   "source": [
    "## Program with a List\n",
    "# A program that uses a list data structure to store a group of elements.\n",
    "# Create a list of something\n",
    "shopping_list = []\n",
    "\n",
    "# Function to add something to the list\n",
    "def add_to_list(item):\n",
    "    shopping_list.append(item)\n",
    "    print(f\"Added '{item}' to the shopping list.\")\n",
    "\n",
    "# Function to remove something from the list\n",
    "def remove_from_list(item):\n",
    "    if item in shopping_list:\n",
    "        shopping_list.remove(item)\n",
    "        print(f\"Removed '{item}' from the shopping list.\")\n"
   ]
  },
  {
   "cell_type": "markdown",
   "metadata": {},
   "source": [
    "## Program with a Dictionary"
   ]
  },
  {
   "cell_type": "code",
   "execution_count": 10,
   "metadata": {},
   "outputs": [
    {
     "name": "stdout",
     "output_type": "stream",
     "text": [
      "Alice's score: 95\n",
      "Bob's score: 89\n"
     ]
    }
   ],
   "source": [
    "## Program with a Dictionary\n",
    "# A dictionary allows you to store and retrieve key-value pairs.\n",
    "\n",
    "# Create a dictionary\n",
    "student_scores = {\n",
    "    \"Alice\": 95,\n",
    "    \"Bob\": 89,\n",
    "}\n",
    "\n",
    "# Retrieve the values assigned to keys\n",
    "alice_score = student_scores[\"Alice\"]\n",
    "bob_score = student_scores[\"Bob\"]\n",
    "# Print the scores\n",
    "print(\"Alice's score:\", alice_score)\n",
    "print(\"Bob's score:\", bob_score)"
   ]
  },
  {
   "cell_type": "markdown",
   "metadata": {},
   "source": [
    "## Program With Iteration"
   ]
  },
  {
   "cell_type": "code",
   "execution_count": 11,
   "metadata": {},
   "outputs": [
    {
     "name": "stdout",
     "output_type": "stream",
     "text": [
      "Number: 1\n",
      "Number: 2\n",
      "Number: 3\n",
      "Number: 4\n",
      "Number: 5\n"
     ]
    }
   ],
   "source": [
    "for x in range(1, 6):\n",
    "    print(\"Number:\", x)"
   ]
  },
  {
   "cell_type": "markdown",
   "metadata": {},
   "source": [
    "## Program with a Function for Mathematical Calculations"
   ]
  },
  {
   "cell_type": "code",
   "execution_count": 12,
   "metadata": {},
   "outputs": [
    {
     "name": "stdout",
     "output_type": "stream",
     "text": [
      "Select operation:\n",
      "1. Add\n",
      "2. Subtract\n",
      "3. Multiply\n",
      "4. Divide\n",
      "Result:  4.0\n"
     ]
    }
   ],
   "source": [
    "## Simple calculator\n",
    "# adding\n",
    "def add(x, y):\n",
    "    return x + y\n",
    "# subtracting\n",
    "def subtract(x, y):\n",
    "    return x - y\n",
    "# multiply\n",
    "def multiply(x, y):\n",
    "    return x * y\n",
    "# division\n",
    "def divide(x, y):\n",
    "    if y == 0:\n",
    "        return \"Can't divide by zero\"\n",
    "    return x / y\n",
    "# display operations\n",
    "print(\"Select operation:\")\n",
    "print(\"1. Add\")\n",
    "print(\"2. Subtract\")\n",
    "print(\"3. Multiply\")\n",
    "print(\"4. Divide\")\n",
    "# choose whether to add, subtract, multipy, divide\n",
    "choice = input(\"Enter choice (1/2/3/4): \")\n",
    "# choose your numbers\n",
    "num1 = float(input(\"Enter first number: \"))\n",
    "num2 = float(input(\"Enter second number: \"))\n",
    "# preform the selcted operation\n",
    "if choice == '1':\n",
    "    result = add(num1, num2)\n",
    "    print(\"Result: \", result)\n",
    "elif choice == '2':\n",
    "    result = subtract(num1, num2)\n",
    "    print(\"Result: \", result)\n",
    "elif choice == '3':\n",
    "    result = multiply(num1, num2)\n",
    "    print(\"Result: \", result)\n",
    "elif choice == '4':\n",
    "    result = divide(num1, num2)\n",
    "    print(\"Result: \", result)\n",
    "else:\n",
    "    print(\"Invalid input\")"
   ]
  },
  {
   "cell_type": "markdown",
   "metadata": {},
   "source": [
    "## Selection/Condition"
   ]
  },
  {
   "cell_type": "code",
   "execution_count": 13,
   "metadata": {},
   "outputs": [
    {
     "name": "stdout",
     "output_type": "stream",
     "text": [
      "You are eligible to join NHS.\n"
     ]
    }
   ],
   "source": [
    "# Python program with a selection/condition\n",
    "grade = float(input(\"Enter your GPA: \"))\n",
    "\n",
    "if grade >= 3.8:\n",
    "    print(\"You are eligible to join NHS.\")\n",
    "else:\n",
    "    print(\"You are not eligible to join NHS.\")"
   ]
  },
  {
   "cell_type": "markdown",
   "metadata": {},
   "source": [
    "## Program with Purpose"
   ]
  },
  {
   "cell_type": "code",
   "execution_count": 14,
   "metadata": {},
   "outputs": [
    {
     "name": "stdout",
     "output_type": "stream",
     "text": [
      "The factorial of 3 is 6\n"
     ]
    }
   ],
   "source": [
    "# Function to calculate the factorial of a number\n",
    "def factorial(n):\n",
    "    if n == 0:\n",
    "        return 1\n",
    "    else:\n",
    "        result = 1\n",
    "        for i in range(1, n + 1):\n",
    "            result *= i\n",
    "        return result\n",
    "\n",
    "# Input: Prompt the user to enter a number\n",
    "num = int(input(\"Enter a number: \"))\n",
    "\n",
    "# Calculate the factorial\n",
    "result = factorial(num)\n",
    "\n",
    "# Output: Display the factorial of the number\n",
    "print(f\"The factorial of {num} is {result}\")"
   ]
  },
  {
   "cell_type": "markdown",
   "metadata": {},
   "source": [
    "## Program Design and Development"
   ]
  },
  {
   "cell_type": "code",
   "execution_count": 15,
   "metadata": {},
   "outputs": [
    {
     "name": "stdout",
     "output_type": "stream",
     "text": [
      "Welcome to Hangman !\n",
      "The word is:  ['*', '*', '*', '*', '*']\n",
      "Guess the word: You've already entered this character.\n",
      "Guess the word: You've already entered this character.\n",
      "Guess the word: You've already entered this character.\n",
      "Guess the word: You've already entered this character.\n",
      "Guess the word: You've already entered this character.\n",
      "Guess the word: "
     ]
    }
   ],
   "source": [
    "## Program Design and Development\n",
    "##Here is a hangman program before we have expanded on it:\n",
    "#!/usr/bin/python3\n",
    "# Hangman game\n",
    "import random\n",
    "class HangMan(object):\n",
    "    # Hangman game\n",
    "    hang = []\n",
    "    hang.append(' +---+')\n",
    "    hang.append(' |   |')\n",
    "    hang.append('     |')\n",
    "    hang.append('     |')\n",
    "    hang.append('     |')\n",
    "    hang.append('     |')\n",
    "    hang.append('=======')\n",
    "    man = {}\n",
    "    man[0] = [' 0   |']\n",
    "    man[1] = [' 0   |', ' |   |']\n",
    "    man[2] = [' 0   |', '/|   |']\n",
    "    man[3] = [' 0   |', '/|\\\\  |']\n",
    "    man[4] = [' 0   |', '/|\\\\  |', '/    |']\n",
    "    man[5] = [' 0   |', '/|\\\\  |', '/ \\\\  |']\n",
    "    pics = []\n",
    "    words = '''ant baboon badger bat bear beaver camel cat clam cobra cougar coyote\n",
    "crow deer dog donkey duck eagle ferret fox frog goat goose hawk lion lizard llama\n",
    "mole monkey moose mouse mule newt otter owl panda parrot pigeon python rabbit ram\n",
    "rat raven rhino salmon seal shark sheep skunk sloth snake spider stork swan tiger\n",
    "toad trout turkey turtle weasel whale wolf wombat zebra'''.split()\n",
    "    infStr='_-*\\'*-_-*\\'*-_-*\\'*-_-*\\'*-_-*\\'*-_-*\\'*-_-*\\'*-_-*\\'*-_-*\\'*-_-*\\''\n",
    "    def __init__(self, *args, **kwargs):\n",
    "        i, j = 2, 0\n",
    "        self.pics.append(self.hang[:])\n",
    "        for ls in self.man.values():\n",
    "            pic, j = self.hang[:], 0\n",
    "            for m in ls:\n",
    "                pic[i + j] = m\n",
    "                j += 1\n",
    "            self.pics.append(pic)\n",
    "    def pickWord(self):\n",
    "        return self.words[random.randint(0, len(self.words) - 1)]\n",
    "    def printPic(self, idx, wordLen):\n",
    "        for line in self.pics[idx]:\n",
    "            print(line)\n",
    "    def askAndEvaluate(self, word, result, missed):\n",
    "        guess = input()\n",
    "        if guess == None or len(guess) != 1 or (guess in result) or (guess in missed):\n",
    "            return None, False\n",
    "        i = 0\n",
    "        right = guess in word\n",
    "        for c in word:\n",
    "            if c == guess:\n",
    "                result[i] = c\n",
    "            i += 1\n",
    "        return guess, right\n",
    "    def info(self, info):\n",
    "        ln=len(self.infStr)\n",
    "        print(self.infStr[:-3])\n",
    "        print(info)\n",
    "        print(self.infStr[3:])\n",
    "    def start(self):\n",
    "        print('Welcome to Hangman !')\n",
    "        word = list(self.pickWord())\n",
    "        result = list('*' * len(word))\n",
    "        print('The word is: ', result)\n",
    "        success, i, missed = False, 0, []\n",
    "        while i < len(self.pics)-1:\n",
    "            print('Guess the word: ', end='')\n",
    "            guess,right = self.askAndEvaluate(word, result, missed)\n",
    "            if guess == None:\n",
    "                print('You\\'ve already entered this character.')\n",
    "                continue\n",
    "            print(''.join(result))\n",
    "            if result == word:\n",
    "                self.info('Congratulations ! You\\'ve just saved a life !')\n",
    "                success = True\n",
    "                break\n",
    "            if not right:\n",
    "                missed.append(guess)\n",
    "                i+=1\n",
    "            self.printPic(i, len(word))\n",
    "            print('Missed characters: ', missed)\n",
    "        if not success:\n",
    "            self.info('The word was \\''+''.join(word)+'\\' ! You\\'ve just killed a man, yo !')\n",
    "a = HangMan().start()\n",
    "##Now here is the version that we have expanded on and explained:\n",
    "#!/usr/bin/python3\n",
    "# Hangman game\n",
    "import random\n",
    "###Change made: added hint list for animal categories\n",
    "category_hints = {\n",
    "    'clam': 'Sea',\n",
    "    'salmon': 'Sea',\n",
    "    'seal': 'Sea',\n",
    "    'shark': 'Sea',\n",
    "    'trout': 'Sea',\n",
    "    'whale': 'Sea',\n",
    "    'baboon': 'Land',\n",
    "    'badger': 'Land',\n",
    "    'bat': 'Land',\n",
    "    'bear': 'Land',\n",
    "    'beaver': 'Land',\n",
    "    'camel': 'Land',\n",
    "    'cat': 'Land',\n",
    "    'cobra': 'Land',\n",
    "    'cougar': 'Land',\n",
    "    'coyote': 'Land',\n",
    "    'crow': 'Land',\n",
    "    'deer': 'Land',\n",
    "    'dog': 'Land',\n",
    "    'donkey': 'Land',\n",
    "    'duck': 'Land (ability to fly)',\n",
    "    'eagle': 'Land (ability to fly)',\n",
    "    'ferret': 'Land',\n",
    "    'fox': 'Land',\n",
    "    'frog': 'Land',\n",
    "    'goat': 'Land',\n",
    "    'goose': 'Land',\n",
    "    'hawk': 'Land (ability to fly)',\n",
    "    'lion': 'Land',\n",
    "    'lizard': 'Land',\n",
    "    'llama': 'Land',\n",
    "    'mole': 'Land',\n",
    "    'monkey': 'Land',\n",
    "    'moose': 'Land',\n",
    "    'mouse': 'Land',\n",
    "    'mule': 'Land',\n",
    "    'newt': 'Land',\n",
    "    'otter': 'Land',\n",
    "    'owl': 'Land',\n",
    "    'panda': 'Land',\n",
    "    'parrot': 'Land',\n",
    "    'pigeon': 'Land (ability to fly)',\n",
    "    'python': 'Land',\n",
    "    'rabbit': 'Land',\n",
    "    'ram': 'Land',\n",
    "    'rat': 'Land',\n",
    "    'raven': 'Land',\n",
    "    'rhino': 'Land',\n",
    "    'sheep': 'Land',\n",
    "    'skunk': 'Land',\n",
    "    'sloth': 'Land',\n",
    "    'snake': 'Land',\n",
    "    'stork': 'Land (ability to fly)',\n",
    "    'swan': 'Land (ability to fly)',\n",
    "    'tiger': 'Land',\n",
    "    'toad': 'Land',\n",
    "    'turkey': 'Land (ability to fly)',\n",
    "    'turtle': 'Land',\n",
    "    'weasel': 'Land',\n",
    "    'wolf': 'Land',\n",
    "    'wombat': 'Land',\n",
    "    'zebra': 'Land',\n",
    "    'ant': 'Bugs/Insects',\n",
    "    'spider': 'Bugs/Insects',\n",
    "}\n",
    "class HangMan(object):\n",
    "    # Hangman game\n",
    "    ###Change made: bigger stage\n",
    "    hang = []\n",
    "    hang.append(' +------------+')\n",
    "    hang.append(' |            |')\n",
    "    hang.append('              |')\n",
    "    hang.append('              |')\n",
    "    hang.append('              |')\n",
    "    hang.append('              |')\n",
    "    hang.append('================')\n",
    "    man = {}\n",
    "    man[0] = [' 0            |']\n",
    "    man[1] = [' 0            |', ' |            |']\n",
    "    man[2] = [' 0            |', '/|            |']\n",
    "    man[3] = [' 0            |', '/|\\\\           |']\n",
    "    man[4] = [' 0            |', '/|\\\\           |', '/             |']\n",
    "    man[5] = [' 0            |', '/|\\\\           |', '/ \\\\           |']\n",
    "    pics = []\n",
    "    ###Lists possible answer words for the game\n",
    "    words = '''ant baboon badger bat bear beaver camel cat clam cobra cougar coyote\n",
    "crow deer dog donkey duck eagle ferret fox frog goat goose hawk lion lizard llama\n",
    "mole monkey moose mouse mule newt otter owl panda parrot pigeon python rabbit ram\n",
    "rat raven rhino salmon seal shark sheep skunk sloth snake spider stork swan tiger\n",
    "toad trout turkey turtle weasel whale wolf wombat zebra'''.split()\n",
    "    infStr='-\\'--\\'--\\'--\\'--\\'--\\'--\\'--\\'--\\'--*\\''\n",
    "    def _init_(self, *args, **kwargs):\n",
    "        i, j = 2, 0\n",
    "        self.pics.append(self.hang[:])\n",
    "        for ls in self.man.values():\n",
    "            pic, j = self.hang[:], 0\n",
    "            for m in ls:\n",
    "                pic[i + j] = m\n",
    "                j += 1\n",
    "            self.pics.append(pic)\n",
    "    def pickWord(self):\n",
    "        return self.words[random.randint(0, len(self.words) - 1)]\n",
    "    def printPic(self, idx, wordLen):\n",
    "        for line in self.pics[idx]:\n",
    "            print(line)\n",
    "            ###Defines function which asks the user to guess a letter and evaluates to see if they were correct.\n",
    "    def askAndEvaluate(self, word, result, missed):\n",
    "        guess = input()\n",
    "        if guess == None or len(guess) != 1 or (guess in result) or (guess in missed):\n",
    "            return None, False\n",
    "        i = 0\n",
    "        right = guess in word\n",
    "        for c in word:\n",
    "            if c == guess:\n",
    "                result[i] = c\n",
    "            i += 1\n",
    "        return guess, right\n",
    "    def info(self, info):\n",
    "        ln=len(self.infStr)\n",
    "        print(self.infStr[:-3])\n",
    "        print(info)\n",
    "        print(self.infStr[3:])\n",
    "       ###Starts the hangman game\n",
    "    def start(self):\n",
    "        print('Welcome to Hangman, these words are in the animal category !') ###Change: more descriptive intro sentence\n",
    "        word = list(self.pickWord())\n",
    "        result = list('*' * len(word))\n",
    "        print('The word is: ', result)\n",
    "        success, i, missed = False, 0, []\n",
    "        while i < len(self.pics)-1:\n",
    "            print('Guess the word: ', end='')\n",
    "            guess,right = self.askAndEvaluate(word, result, missed)\n",
    "            if guess == None:\n",
    "                print('You\\'ve already entered this character.')\n",
    "                continue\n",
    "            print(''.join(result))\n",
    "            if result == word: ###If/else conditions which either congratulate user for right answer or add appendage for wrong answer\n",
    "                self.info('Congratulations ! You\\'ve just saved a life !')\n",
    "                success = True\n",
    "                break\n",
    "            if not right:\n",
    "                missed.append(guess)\n",
    "                i+=1\n",
    "            self.printPic(i, len(word))\n",
    "            print('Missed characters: ', missed)\n",
    "            ###Change made: added hint after every wrong answer to help user\n",
    "            if i < len(self.pics) - 1:\n",
    "                word_category = category_hints.get(''.join(word), 'No category available.')\n",
    "                print('Hint:', word_category)\n",
    "        if not success:\n",
    "            self.info('The word was \\''+''.join(word)+'\\' ! You\\'ve just killed a man, yo !')\n",
    "a = HangMan().start()"
   ]
  },
  {
   "cell_type": "markdown",
   "metadata": {},
   "source": [
    "## Documentation of Programs with Lists and Iteration"
   ]
  },
  {
   "cell_type": "code",
   "execution_count": null,
   "metadata": {},
   "outputs": [
    {
     "name": "stdout",
     "output_type": "stream",
     "text": [
      "There are 8 factors of 5 in this list.\n"
     ]
    }
   ],
   "source": [
    "###List of the numbers that are being evaluated\n",
    "numbers= [90,81,75,63,82,40,25,46,54,30,55,1035,900]\n",
    "Factors_of_5=0 ###Gives the program a starting value for how many factors of 5 there are in the list\n",
    "###Adds 1 to total factors of 5 if the remainder (%) of the number when divided by 5 is 0\n",
    "for num in numbers:\n",
    "    if num % 5==0:\n",
    "        Factors_of_5 +=1\n",
    "###Prints out final text including the string counting the factors of 5 in the list of numbers alog with text\n",
    "print(\"There are \" + str(Factors_of_5) + \" factors of 5 in this list.\")"
   ]
  },
  {
   "cell_type": "markdown",
   "metadata": {},
   "source": [
    "## Program Design and Development for Mathematical and/or Statistical Calculation.\n"
   ]
  },
  {
   "cell_type": "code",
   "execution_count": null,
   "metadata": {},
   "outputs": [
    {
     "name": "stdout",
     "output_type": "stream",
     "text": [
      "Select operation:\n",
      "1. Add\n",
      "2. Subtract\n",
      "3. Multiply\n",
      "4. Divide\n",
      "Result:  4.0\n"
     ]
    }
   ],
   "source": [
    "## Simple calculator\n",
    "\n",
    "# Function for adding two numbers\n",
    "def add(x, y):\n",
    "    return x + y\n",
    "\n",
    "# Function for subtracting two numbers\n",
    "def subtract(x, y):\n",
    "    return x - y\n",
    "\n",
    "# Function for multiplying two numbers\n",
    "def multiply(x, y):\n",
    "    return x * y\n",
    "\n",
    "# Function for dividing two numbers, with a check for division by zero\n",
    "def divide(x, y):\n",
    "    if y == 0:\n",
    "        return \"Can't divide by zero\"\n",
    "    return x / y\n",
    "\n",
    "# Display available operations to the user\n",
    "print(\"Select operation:\")\n",
    "print(\"1. Add\")\n",
    "print(\"2. Subtract\")\n",
    "print(\"3. Multiply\")\n",
    "print(\"4. Divide\")\n",
    "\n",
    "# User input: choose the desired operation\n",
    "choice = input(\"Enter choice (1/2/3/4): \")\n",
    "\n",
    "# User input: enter the first and second numbers for the operation\n",
    "num1 = float(input(\"Enter first number: \"))\n",
    "num2 = float(input(\"Enter second number: \"))\n",
    "\n",
    "# Perform the selected operation based on the user's choice\n",
    "if choice == '1':\n",
    "    result = add(num1, num2)\n",
    "    print(\"Result: \", result)\n",
    "elif choice == '2':\n",
    "    result = subtract(num1, num2)\n",
    "    print(\"Result: \", result)\n",
    "elif choice == '3':\n",
    "    result = multiply(num1, num2)\n",
    "    print(\"Result: \", result)\n",
    "elif choice == '4':\n",
    "    result = divide(num1, num2)\n",
    "    print(\"Result: \", result)\n",
    "else:\n",
    "    print(\"Invalid input\")\n"
   ]
  },
  {
   "cell_type": "markdown",
   "metadata": {},
   "source": [
    "## Identifying and Correcting Errors\n",
    "These are programs that help reduce errors when inputting information: If/Else statements:\n",
    "These statements are clear and well structured. They're easy to read and use and reduce the chances of errors. If/else statements handle errors nicely as you can check if the output is working which reduces the chance of unexpected behaviors such as crashes."
   ]
  },
  {
   "cell_type": "code",
   "execution_count": 2,
   "metadata": {},
   "outputs": [
    {
     "name": "stdout",
     "output_type": "stream",
     "text": [
      "You are not eligible to vote yet. Please wait until you are 18 or older.\n"
     ]
    }
   ],
   "source": [
    "## Show comments and code logic that reduces errors in code with if / else statements.\n",
    "# Check if a person can vote based on age\n",
    "# Input: age - an integer representing a person's age\n",
    "age = int(input(\"Enter your age: \"))\n",
    "# Define the minimum voting age\n",
    "voting_age = 18\n",
    "# Use an if/else statement to check if the person can vote\n",
    "if age >= voting_age:\n",
    "    print(\"You are eligible to vote.\")\n",
    "else:\n",
    "    print(\"You are not eligible to vote yet. Please wait until you are 18 or older.\")"
   ]
  },
  {
   "cell_type": "markdown",
   "metadata": {},
   "source": [
    "## Try/Except Statements:\n",
    "These statements help keep code running in case an initial input doesn't work. The try is the intial function and the except is the function that runs if an error occurs."
   ]
  },
  {
   "cell_type": "code",
   "execution_count": null,
   "metadata": {},
   "outputs": [],
   "source": [
    "import math\n",
    "###This example results in a successful input and output with \n",
    "try:\n",
    "    number=25\n",
    "    result= math.sqrt(number)\n",
    "    print(f\"The square root of {number} is {result}\")\n",
    "    \n",
    "except ValueError as e:\n",
    "    print(f\"Error: {e}\")"
   ]
  },
  {
   "cell_type": "code",
   "execution_count": null,
   "metadata": {},
   "outputs": [],
   "source": [
    "import math\n",
    "\n",
    "try:\n",
    "    number=-43\n",
    "    result= math.sqrt(number)\n",
    "    print(f\"The square root of {number} is {result}\")\n",
    "    \n",
    "except ValueError as e:\n",
    "    print(f\"Error: {e}\")"
   ]
  }
 ],
 "metadata": {
  "kernelspec": {
   "display_name": "Python 3",
   "language": "python",
   "name": "python3"
  },
  "language_info": {
   "codemirror_mode": {
    "name": "ipython",
    "version": 3
   },
   "file_extension": ".py",
   "mimetype": "text/x-python",
   "name": "python",
   "nbconvert_exporter": "python",
   "pygments_lexer": "ipython3",
   "version": "3.11.4"
  },
  "orig_nbformat": 4
 },
 "nbformat": 4,
 "nbformat_minor": 2
}
