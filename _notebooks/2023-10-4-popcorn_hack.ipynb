{
 "cells": [
  {
   "cell_type": "markdown",
   "metadata": {},
   "source": [
    "## Popcorn Hack"
   ]
  },
  {
   "cell_type": "code",
   "execution_count": 2,
   "metadata": {},
   "outputs": [
    {
     "name": "stdout",
     "output_type": "stream",
     "text": [
      "Favorite Food: Watermelon\n"
     ]
    }
   ],
   "source": [
    "Favoritefood= \"Favorite Food: Watermelon\"\n",
    "print(Favoritefood)"
   ]
  },
  {
   "cell_type": "markdown",
   "metadata": {},
   "source": [
    "## Popcorn hack 2"
   ]
  },
  {
   "cell_type": "code",
   "execution_count": 1,
   "metadata": {},
   "outputs": [
    {
     "name": "stdout",
     "output_type": "stream",
     "text": [
      "10 is and integer\n",
      "10 is and boolean\n",
      "Patrick is a string\n"
     ]
    }
   ],
   "source": [
    "highScore = 9\n",
    "isRaining = False\n",
    "firstName = \"Patrick\"\n",
    "print(str(highScore) + \" is and integer\")\n",
    "print(str(isRaining) + \" is and boolean\")\n",
    "print(firstName + \" is a string\")"
   ]
  },
  {
   "cell_type": "markdown",
   "metadata": {},
   "source": [
    "## Popcorn Hack 3"
   ]
  },
  {
   "cell_type": "code",
   "execution_count": 6,
   "metadata": {},
   "outputs": [
    {
     "name": "stdout",
     "output_type": "stream",
     "text": [
      "15\n",
      "15\n",
      "15\n"
     ]
    }
   ],
   "source": [
    "num1=10\n",
    "num2=15\n",
    "num3=20\n",
    "num3=num2\n",
    "num1=num2\n",
    "num2=num3\n",
    "print(str(num1))\n",
    "print(str(num2))\n",
    "print(str(num3))"
   ]
  },
  {
   "cell_type": "markdown",
   "metadata": {},
   "source": [
    "## Popocorn Hack 4"
   ]
  },
  {
   "cell_type": "code",
   "execution_count": 10,
   "metadata": {},
   "outputs": [
    {
     "name": "stdout",
     "output_type": "stream",
     "text": [
      "APEl\n"
     ]
    }
   ],
   "source": [
    "classScheclude = [\"US History\", \"APEl\", \"Raquet Sports\", \"APCSP\", \"AFA\"]\n",
    "print(classScheclude[1])"
   ]
  },
  {
   "cell_type": "markdown",
   "metadata": {},
   "source": [
    "## Homework Hack 1\n",
    "\n",
    "- Interger: Variable 1\n",
    "\n",
    "- List: Variable 3\n",
    "\n",
    "- Boolean: Variable 4\n",
    "\n",
    "- String: Variable 2"
   ]
  },
  {
   "cell_type": "markdown",
   "metadata": {},
   "source": [
    "## Homework Hack 2"
   ]
  },
  {
   "cell_type": "code",
   "execution_count": 22,
   "metadata": {
    "vscode": {
     "languageId": "javascript"
    }
   },
   "outputs": [
    {
     "name": "stdout",
     "output_type": "stream",
     "text": [
      "10\n",
      "Messi\n",
      "['Messi', 'Ronaldo', 'Iniesta', 'Pele']\n",
      "True\n"
     ]
    }
   ],
   "source": [
    "# Integer\n",
    "favoriteNumber = 10\n",
    "print(favoriteNumber)\n",
    "\n",
    "# String\n",
    "theBestSoccerPlayer = \"Messi\"\n",
    "print(theBestSoccerPlayer)\n",
    "\n",
    "# List of Strings\n",
    "greatestPlayers = [\"Messi\", \"Ronaldo\", \"Iniesta\", \"Pele\"]\n",
    "print(greatestPlayers)\n",
    "\n",
    "# Boolean\n",
    "ronaldoIsTheGoat = false\n",
    "print(ronaldoIsTheGoat)\n"
   ]
  }
 ],
 "metadata": {
  "kernelspec": {
   "display_name": "Python 3",
   "language": "python",
   "name": "python3"
  },
  "language_info": {
   "codemirror_mode": {
    "name": "ipython",
    "version": 3
   },
   "file_extension": ".py",
   "mimetype": "text/x-python",
   "name": "python",
   "nbconvert_exporter": "python",
   "pygments_lexer": "ipython3",
   "version": "3.11.4"
  },
  "orig_nbformat": 4
 },
 "nbformat": 4,
 "nbformat_minor": 2
}
